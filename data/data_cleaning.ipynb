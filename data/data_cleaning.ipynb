{
 "cells": [
  {
   "cell_type": "code",
   "execution_count": 1,
   "metadata": {},
   "outputs": [],
   "source": [
    "import pandas as pd"
   ]
  },
  {
   "cell_type": "markdown",
   "metadata": {},
   "source": [
    "From FDA website: (https://open.fda.gov/apis/food/enforcement/searchable-fields/)\n",
    "--\n",
    "\n",
    "State and Country:\n",
    "\n",
    "- The state, and country where the recalling firm is located\n",
    "\n",
    "Classification:\n",
    "\n",
    "- Numerical designation (I, II, or III) that is assigned by FDA to a particular product recall that indicates the relative degree of health hazard.\n",
    "\n",
    "    - Class I = Dangerous or defective products that predictably could cause serious health problems or death. Examples include: food found to contain botulinum toxin, food with undeclared allergens, a label mix-up on a lifesaving drug, or a defective artificial heart valve.\n",
    "\n",
    "    - Class II = Products that might cause a temporary health problem, or pose only a slight threat of a serious nature. Example: a drug that is under-strength but that is not used to treat life-threatening situations.\n",
    "\n",
    "    - Class III = Products that are unlikely to cause any adverse health reaction, but that violate FDA labeling or manufacturing laws. Examples include: a minor container defect and lack of English labeling in a retail food.\n",
    "\n",
    "\n",
    "Reason for recall: (I don't use this directly, see reason_for_recall simplified below)\n",
    "\n",
    "- Information describing how the product is defective and violates the FD&C Act or related statutes.\n",
    "\n",
    "\n",
    "\n",
    "From Kaggle dataset creator: (https://www.kaggle.com/datasets/chiyucheng/fda-food-enforcement-20082022)\n",
    "--\n",
    "\n",
    "Reason for recall simplified:\n",
    "\n",
    "- \"We then created new tables, one for each of the four categories with simplified reasons attached to the original data. For example, for any event whose reason for recall contains the key word E. coli , we attach E. coli. to it at a separate column named as reason_for_recall_simplified.\"\n"
   ]
  },
  {
   "cell_type": "code",
   "execution_count": 2,
   "metadata": {},
   "outputs": [],
   "source": [
    "# loading the dataset downloaded from Kaggle into a pandas DataFrame object:\n",
    "df = pd.read_csv('./combined.csv')"
   ]
  },
  {
   "cell_type": "code",
   "execution_count": 3,
   "metadata": {},
   "outputs": [
    {
     "data": {
      "text/plain": [
       "United States               21062\n",
       "Canada                        123\n",
       "Israel                         86\n",
       "France                         13\n",
       "Taiwan                         12\n",
       "Mexico                         10\n",
       "Korea (the Republic of)         8\n",
       "Chile                           7\n",
       "Ireland                         5\n",
       "Italy                           4\n",
       "Belgium                         4\n",
       "China                           3\n",
       "Egypt                           3\n",
       "Costa Rica                      3\n",
       "India                           3\n",
       "Germany                         2\n",
       "Netherlands                     1\n",
       "Vietnam                         1\n",
       "Thailand                        1\n",
       "Poland                          1\n",
       "Guatemala                       1\n",
       "United Kingdom                  1\n",
       "Dominican Republic (the)        1\n",
       "Sweden                          1\n",
       "Australia                       1\n",
       "Name: country, dtype: int64"
      ]
     },
     "execution_count": 3,
     "metadata": {},
     "output_type": "execute_result"
    }
   ],
   "source": [
    "df['country'].value_counts() \n",
    "# We can see that most of the data is from the United States, so I will just use this info"
   ]
  },
  {
   "cell_type": "code",
   "execution_count": 4,
   "metadata": {},
   "outputs": [],
   "source": [
    "# Getting data just from the US and making it a new dataframe:\n",
    "us_df = df[df['country']=='United States'] "
   ]
  },
  {
   "cell_type": "code",
   "execution_count": 5,
   "metadata": {},
   "outputs": [
    {
     "data": {
      "text/plain": [
       "array(['VA', 'GA', 'NC', 'MN', 'CT', 'NJ', 'SC', 'NY', 'IN', 'AL', 'MI',\n",
       "       'MA', 'WA', 'WI', 'KS', 'FL', 'OR', 'CA', 'AR', 'IL', 'UT', 'TX',\n",
       "       'MD', 'WV', 'ID', 'MO', 'RI', 'ME', 'NH', 'OH', 'PA', 'SD', 'VT',\n",
       "       'ND', 'CO', 'WY', 'NV', 'DE', 'AZ', 'LA', 'OK', 'DC', 'MT', 'PR',\n",
       "       'NM', 'IA', 'AK', 'KY', 'MS', 'NE', 'TN', 'HI'], dtype=object)"
      ]
     },
     "execution_count": 5,
     "metadata": {},
     "output_type": "execute_result"
    }
   ],
   "source": [
    "# checking the iso code for the states: \n",
    "us_df['state'].unique()\n",
    "# we see that it is the two letter codes which will be important for choosing a geojson file later"
   ]
  },
  {
   "cell_type": "code",
   "execution_count": 6,
   "metadata": {},
   "outputs": [],
   "source": [
    "# Making a list of the information I plan to use:\n",
    "important_info = ['state','classification','reason_for_recall_simplified']"
   ]
  },
  {
   "cell_type": "code",
   "execution_count": 7,
   "metadata": {},
   "outputs": [],
   "source": [
    "# Making a new dataframe with just the information I want to use:\n",
    "data = us_df[important_info]"
   ]
  },
  {
   "cell_type": "code",
   "execution_count": 8,
   "metadata": {},
   "outputs": [],
   "source": [
    "def show_missing(df):\n",
    "    '''Return a pandas dataframe describing the contents of a source dataframe including missing values.'''\n",
    "    \n",
    "    column = []\n",
    "    dtype = []\n",
    "    count = []\n",
    "    unique = []\n",
    "    missing = []\n",
    "    \n",
    "    for col in df.columns:\n",
    "        column.append(col)\n",
    "        dtype.append(df[col].dtype)\n",
    "        count.append(len(df[col]))\n",
    "        unique.append(len(df[col].unique()))\n",
    "        missing.append(df[col].isna().sum())\n",
    "\n",
    "    output = pd.DataFrame({\n",
    "        'column': column, \n",
    "        'dtype': dtype,\n",
    "        'count': count,\n",
    "        'unique': unique,\n",
    "        'missing': missing, \n",
    "    })    \n",
    "        \n",
    "    return output"
   ]
  },
  {
   "cell_type": "code",
   "execution_count": 9,
   "metadata": {},
   "outputs": [
    {
     "data": {
      "text/html": [
       "<div>\n",
       "<style scoped>\n",
       "    .dataframe tbody tr th:only-of-type {\n",
       "        vertical-align: middle;\n",
       "    }\n",
       "\n",
       "    .dataframe tbody tr th {\n",
       "        vertical-align: top;\n",
       "    }\n",
       "\n",
       "    .dataframe thead th {\n",
       "        text-align: right;\n",
       "    }\n",
       "</style>\n",
       "<table border=\"1\" class=\"dataframe\">\n",
       "  <thead>\n",
       "    <tr style=\"text-align: right;\">\n",
       "      <th></th>\n",
       "      <th>column</th>\n",
       "      <th>dtype</th>\n",
       "      <th>count</th>\n",
       "      <th>unique</th>\n",
       "      <th>missing</th>\n",
       "    </tr>\n",
       "  </thead>\n",
       "  <tbody>\n",
       "    <tr>\n",
       "      <th>0</th>\n",
       "      <td>state</td>\n",
       "      <td>object</td>\n",
       "      <td>21062</td>\n",
       "      <td>52</td>\n",
       "      <td>0</td>\n",
       "    </tr>\n",
       "    <tr>\n",
       "      <th>1</th>\n",
       "      <td>classification</td>\n",
       "      <td>int64</td>\n",
       "      <td>21062</td>\n",
       "      <td>3</td>\n",
       "      <td>0</td>\n",
       "    </tr>\n",
       "    <tr>\n",
       "      <th>2</th>\n",
       "      <td>reason_for_recall_simplified</td>\n",
       "      <td>object</td>\n",
       "      <td>21062</td>\n",
       "      <td>20</td>\n",
       "      <td>0</td>\n",
       "    </tr>\n",
       "  </tbody>\n",
       "</table>\n",
       "</div>"
      ],
      "text/plain": [
       "                         column   dtype  count  unique  missing\n",
       "0                         state  object  21062      52        0\n",
       "1                classification   int64  21062       3        0\n",
       "2  reason_for_recall_simplified  object  21062      20        0"
      ]
     },
     "execution_count": 9,
     "metadata": {},
     "output_type": "execute_result"
    }
   ],
   "source": [
    "data_check = show_missing(data)\n",
    "data_check # we see that there are no missing values!"
   ]
  },
  {
   "cell_type": "code",
   "execution_count": 10,
   "metadata": {},
   "outputs": [],
   "source": [
    "# aggregating the data by state:\n",
    "\n",
    "lst_data = data.values.tolist() # put dataframe to list\n",
    "state_info = {} # empty dictionary to put aggregated data with states as keys\n",
    "for x in lst_data: # looping through data\n",
    "    state = x[0]\n",
    "    c = x[1]\n",
    "    r = x[2]\n",
    "    if state not in state_info.keys():\n",
    "        state_info[state] = {'classes': [c], 'recalls': [r]} # making value a dictionary with two keys, with lists as values\n",
    "    else:\n",
    "        state_info[state]['classes'].append(c)\n",
    "        state_info[state]['recalls'].append(r)\n",
    "        \n",
    "def most_frequent(lst):\n",
    "    '''Returns the most frequently occuring item in a list.'''\n",
    "    return max(set(lst), key = lst.count)\n",
    "\n",
    "final_state_info = []\n",
    "for state, vals in state_info.items():\n",
    "    classes = vals['classes']\n",
    "    avg_class = sum(classes)/len(classes) # aggregating the classificaton by taking the mean\n",
    "    \n",
    "    recalls = vals['recalls']\n",
    "    top_recall = most_frequent(recalls) # getting the most frequently ocurring recall reason\n",
    "    \n",
    "    recall_count = len(recalls) # getting the amount of recalls\n",
    "    \n",
    "    final_state_info.append([state, avg_class, top_recall, recall_count])"
   ]
  },
  {
   "cell_type": "code",
   "execution_count": 11,
   "metadata": {},
   "outputs": [],
   "source": [
    "final_data = pd.DataFrame(final_state_info, columns = ['state', 'avg_class', 'top_recall', 'recall_count'])\n",
    "final_data.to_csv('./final_data.csv')"
   ]
  },
  {
   "cell_type": "code",
   "execution_count": null,
   "metadata": {},
   "outputs": [],
   "source": []
  }
 ],
 "metadata": {
  "kernelspec": {
   "display_name": "Python 3",
   "language": "python",
   "name": "python3"
  },
  "language_info": {
   "codemirror_mode": {
    "name": "ipython",
    "version": 3
   },
   "file_extension": ".py",
   "mimetype": "text/x-python",
   "name": "python",
   "nbconvert_exporter": "python",
   "pygments_lexer": "ipython3",
   "version": "3.8.5"
  }
 },
 "nbformat": 4,
 "nbformat_minor": 4
}
